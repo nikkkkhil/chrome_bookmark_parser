{
 "cells": [
  {
   "cell_type": "code",
   "execution_count": 1,
   "metadata": {},
   "outputs": [],
   "source": [
    "from bs4 import BeautifulSoup\n",
    "contains = []\n",
    "soup = BeautifulSoup(open(\"/home/nikhil/Documents/bookmarks_19_10_2019.html\"), \"html.parser\")\n",
    "for city in soup.find_all('a'):\n",
    "    value = city.text +\" \"+ city['href']\n",
    "    contains.append(value)\n",
    "with open('/home/nikhil/Documents/book.txt','w') as f:\n",
    "    for element in contains:\n",
    "        f.write('%s\\n'% element)"
   ]
  },
  {
   "cell_type": "code",
   "execution_count": null,
   "metadata": {},
   "outputs": [],
   "source": []
  }
 ],
 "metadata": {
  "kernelspec": {
   "display_name": "Python 3",
   "language": "python",
   "name": "python3"
  },
  "language_info": {
   "codemirror_mode": {
    "name": "ipython",
    "version": 3
   },
   "file_extension": ".py",
   "mimetype": "text/x-python",
   "name": "python",
   "nbconvert_exporter": "python",
   "pygments_lexer": "ipython3",
   "version": "3.7.3"
  }
 },
 "nbformat": 4,
 "nbformat_minor": 2
}
